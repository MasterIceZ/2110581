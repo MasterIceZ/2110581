{
 "cells": [
  {
   "cell_type": "code",
   "execution_count": 30,
   "metadata": {},
   "outputs": [],
   "source": [
    "D = {\n",
    "  \"Chimp\": { \"Chimp\": 0, \"Human\": 3, \"Seal\": 6, \"Whale\": 4 },\n",
    "  \"Human\": { \"Chimp\": 3, \"Human\": 0, \"Seal\": 7, \"Whale\": 5 },\n",
    "  \"Seal\": { \"Chimp\": 6, \"Human\": 7, \"Seal\": 0, \"Whale\": 2 },\n",
    "  \"Whale\": { \"Chimp\": 4, \"Human\": 5, \"Seal\": 2, \"Whale\": 0 }\n",
    "}"
   ]
  },
  {
   "cell_type": "code",
   "execution_count": 31,
   "metadata": {},
   "outputs": [],
   "source": [
    "adj = {\n",
    "  \"Chimp\": [\"A\"],\n",
    "  \"Human\": [\"A\"],\n",
    "  \"Seal\": [\"M\"],\n",
    "  \"Whale\": [\"M\"],\n",
    "  \"A\": [\"Chimp\", \"Human\", \"M\"],\n",
    "  \"M\": [\"Seal\", \"Whale\", \"A\"]\n",
    "}\n",
    "node_names = [\"Chimp\", \"Human\", \"Seal\", \"Whale\", \"A\", \"M\"]"
   ]
  },
  {
   "cell_type": "code",
   "execution_count": 32,
   "metadata": {},
   "outputs": [],
   "source": [
    "distance = dict()\n",
    "for i in node_names:\n",
    "  distance[i] = dict()\n",
    "  for j in node_names:\n",
    "    if i in \"AM\" or j in \"AM\":\n",
    "      distance[i][j] = 10000\n",
    "    else:\n",
    "      distance[i][j] = D[i][j]\n"
   ]
  },
  {
   "cell_type": "code",
   "execution_count": 33,
   "metadata": {},
   "outputs": [
    {
     "name": "stdout",
     "output_type": "stream",
     "text": [
      "5.0 3.0\n"
     ]
    }
   ],
   "source": [
    "# d[k][m] = (d[i][k] + d[j][k] - d[i][j]) / 2\n",
    "distance[\"Seal\"][\"A\"] = (D[\"Seal\"][\"Chimp\"] + D[\"Seal\"][\"Human\"] - D[\"Human\"][\"Chimp\"]) / 2\n",
    "distance[\"A\"][\"Seal\"] = distance[\"Seal\"][\"A\"]\n",
    "distance[\"Whale\"][\"A\"] = (D[\"Whale\"][\"Chimp\"] + D[\"Whale\"][\"Human\"] - D[\"Human\"][\"Chimp\"]) / 2\n",
    "distance[\"A\"][\"Whale\"] = distance[\"Whale\"][\"A\"] \n",
    "print(distance[\"Seal\"][\"A\"], distance[\"Whale\"][\"A\"])"
   ]
  },
  {
   "cell_type": "code",
   "execution_count": 34,
   "metadata": {},
   "outputs": [
    {
     "name": "stdout",
     "output_type": "stream",
     "text": [
      "3.0\n"
     ]
    }
   ],
   "source": [
    "distance[\"A\"][\"M\"] = (distance[\"Seal\"][\"A\"] + distance[\"Whale\"][\"A\"] - D[\"Seal\"][\"Whale\"]) / 2\n",
    "distance[\"M\"][\"A\"] = distance[\"A\"][\"M\"]\n",
    "print(distance[\"A\"][\"M\"])\n",
    "middle = distance[\"A\"][\"M\"]"
   ]
  },
  {
   "cell_type": "code",
   "execution_count": 35,
   "metadata": {},
   "outputs": [
    {
     "name": "stdout",
     "output_type": "stream",
     "text": [
      "1.0\n"
     ]
    }
   ],
   "source": [
    "distance[\"Chimp\"][\"M\"] = (distance[\"Chimp\"][\"Seal\"] + distance[\"Chimp\"][\"Whale\"] - D[\"Seal\"][\"Whale\"]) / 2\n",
    "distance[\"M\"][\"Chimp\"] = distance[\"Chimp\"][\"M\"]\n",
    "\n",
    "distance[\"Chimp\"][\"A\"] = distance[\"Chimp\"][\"M\"] - distance[\"M\"][\"A\"]\n",
    "\n",
    "print(distance[\"Chimp\"][\"A\"])"
   ]
  },
  {
   "cell_type": "code",
   "execution_count": 36,
   "metadata": {},
   "outputs": [
    {
     "name": "stdout",
     "output_type": "stream",
     "text": [
      "2.0\n"
     ]
    }
   ],
   "source": [
    "distance[\"Human\"][\"M\"] = (distance[\"Human\"][\"Seal\"] + distance[\"Human\"][\"Whale\"] - D[\"Seal\"][\"Whale\"]) / 2\n",
    "distance[\"M\"][\"Human\"] = distance[\"Human\"][\"M\"]\n",
    "\n",
    "distance[\"Human\"][\"A\"] = distance[\"Human\"][\"M\"] - distance[\"M\"][\"A\"]\n",
    "distance[\"A\"][\"Human\"] = distance[\"Human\"][\"A\"]\n",
    "\n",
    "print(distance[\"Human\"][\"A\"])"
   ]
  },
  {
   "cell_type": "code",
   "execution_count": 37,
   "metadata": {},
   "outputs": [],
   "source": [
    "distance[\"Seal\"][\"M\"] = distance[\"Seal\"][\"A\"] - distance[\"A\"][\"M\"]\n",
    "distance[\"M\"][\"Seal\"] = distance[\"Seal\"][\"M\"]\n",
    "distance[\"Whale\"][\"M\"] = distance[\"Whale\"][\"A\"] - distance[\"A\"][\"M\"]\n",
    "distance[\"M\"][\"Whale\"] = distance[\"Whale\"][\"M\"]"
   ]
  },
  {
   "cell_type": "code",
   "execution_count": 38,
   "metadata": {},
   "outputs": [],
   "source": [
    "import json"
   ]
  },
  {
   "cell_type": "code",
   "execution_count": 39,
   "metadata": {},
   "outputs": [
    {
     "name": "stdout",
     "output_type": "stream",
     "text": [
      "{\n",
      "  \"A\": {\n",
      "    \"A\": 10000,\n",
      "    \"Chimp\": 10000,\n",
      "    \"Human\": 2.0,\n",
      "    \"M\": 3.0,\n",
      "    \"Seal\": 5.0,\n",
      "    \"Whale\": 3.0\n",
      "  },\n",
      "  \"Chimp\": {\n",
      "    \"A\": 1.0,\n",
      "    \"Chimp\": 0,\n",
      "    \"Human\": 3,\n",
      "    \"M\": 4.0,\n",
      "    \"Seal\": 6,\n",
      "    \"Whale\": 4\n",
      "  },\n",
      "  \"Human\": {\n",
      "    \"A\": 2.0,\n",
      "    \"Chimp\": 3,\n",
      "    \"Human\": 0,\n",
      "    \"M\": 5.0,\n",
      "    \"Seal\": 7,\n",
      "    \"Whale\": 5\n",
      "  },\n",
      "  \"M\": {\n",
      "    \"A\": 3.0,\n",
      "    \"Chimp\": 4.0,\n",
      "    \"Human\": 5.0,\n",
      "    \"M\": 10000,\n",
      "    \"Seal\": 2.0,\n",
      "    \"Whale\": 0.0\n",
      "  },\n",
      "  \"Seal\": {\n",
      "    \"A\": 5.0,\n",
      "    \"Chimp\": 6,\n",
      "    \"Human\": 7,\n",
      "    \"M\": 2.0,\n",
      "    \"Seal\": 0,\n",
      "    \"Whale\": 2\n",
      "  },\n",
      "  \"Whale\": {\n",
      "    \"A\": 3.0,\n",
      "    \"Chimp\": 4,\n",
      "    \"Human\": 5,\n",
      "    \"M\": 0.0,\n",
      "    \"Seal\": 2,\n",
      "    \"Whale\": 0\n",
      "  }\n",
      "}\n"
     ]
    }
   ],
   "source": [
    "print(json.dumps(\n",
    "    distance,\n",
    "    sort_keys=True,\n",
    "    indent=2,\n",
    "    separators=(',', ': ')\n",
    "))"
   ]
  },
  {
   "cell_type": "code",
   "execution_count": 40,
   "metadata": {},
   "outputs": [
    {
     "data": {
      "image/png": "[encoded data removed]",
      "text/plain": [
       "<Figure size 640x480 with 1 Axes>"
      ]
     },
     "metadata": {},
     "output_type": "display_data"
    }
   ],
   "source": [
    "import networkx as nx\n",
    "import matplotlib.pyplot as plt\n",
    "\n",
    "G = nx.Graph()\n",
    "for i in node_names:\n",
    "  G.add_node(i)\n",
    "\n",
    "# for i in node_names:\n",
    "#   for j in node_names:\n",
    "#     if i != j and distance[i][j] != 10000:\n",
    "#       G.add_edge(i, j, weight=distance[i][j])\n",
    "\n",
    "G.add_edge(\"Chimp\", \"A\", weight=distance[\"Chimp\"][\"A\"])\n",
    "G.add_edge(\"Human\", \"A\", weight=distance[\"Human\"][\"A\"])\n",
    "G.add_edge(\"Seal\", \"M\", weight=distance[\"Seal\"][\"M\"])\n",
    "G.add_edge(\"Whale\", \"M\", weight=distance[\"Whale\"][\"M\"])\n",
    "G.add_edge(\"A\", \"M\", weight=distance[\"A\"][\"M\"])\n",
    "\n",
    "pos = nx.spring_layout(G)\n",
    "nx.draw(G, pos, with_labels=True)\n",
    "labels = nx.get_edge_attributes(G, 'weight')\n",
    "nx.draw_networkx_edge_labels(G, pos, edge_labels=labels)\n",
    "plt.show()"
   ]
  },
  {
   "cell_type": "code",
   "execution_count": 41,
   "metadata": {},
   "outputs": [
    {
     "name": "stdout",
     "output_type": "stream",
     "text": [
      "((Chimp:1.0, (Seal:2.0, Whale:0.0)M:3.0)A:2.0)Human;\n"
     ]
    }
   ],
   "source": [
    "print(f'((Chimp:{distance[\"Chimp\"][\"A\"]}, (Seal:{distance[\"M\"][\"Seal\"]}, Whale:{distance[\"M\"][\"Whale\"]})M:{distance[\"A\"][\"M\"]})A:{distance[\"Human\"][\"A\"]})Human;')"
   ]
  },
  {
   "cell_type": "code",
   "execution_count": null,
   "metadata": {},
   "outputs": [],
   "source": []
  }
 ],
 "metadata": {
  "kernelspec": {
   "display_name": "Python 3",
   "language": "python",
   "name": "python3"
  },
  "language_info": {
   "codemirror_mode": {
    "name": "ipython",
    "version": 3
   },
   "file_extension": ".py",
   "mimetype": "text/x-python",
   "name": "python",
   "nbconvert_exporter": "python",
   "pygments_lexer": "ipython3",
   "version": "3.11.9"
  }
 },
 "nbformat": 4,
 "nbformat_minor": 2
}
